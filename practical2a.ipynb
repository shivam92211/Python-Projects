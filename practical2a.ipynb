{
  "nbformat": 4,
  "nbformat_minor": 0,
  "metadata": {
    "colab": {
      "provenance": [],
      "authorship_tag": "ABX9TyP5cwgn4vKgX8f9D9V6xcmP",
      "include_colab_link": true
    },
    "kernelspec": {
      "name": "python3",
      "display_name": "Python 3"
    },
    "language_info": {
      "name": "python"
    }
  },
  "cells": [
    {
      "cell_type": "markdown",
      "metadata": {
        "id": "view-in-github",
        "colab_type": "text"
      },
      "source": [
        "<a href=\"https://colab.research.google.com/github/shivam92211/Python-Projects/blob/main/practical2a.ipynb\" target=\"_parent\"><img src=\"https://colab.research.google.com/assets/colab-badge.svg\" alt=\"Open In Colab\"/></a>"
      ]
    },
    {
      "cell_type": "code",
      "execution_count": 6,
      "metadata": {
        "colab": {
          "base_uri": "https://localhost:8080/"
        },
        "id": "D2mZlcEvHrOP",
        "outputId": "3be72bf5-f6a6-4e97-dd90-2f30d26003ad"
      },
      "outputs": [
        {
          "output_type": "stream",
          "name": "stdout",
          "text": [
            "Enter the number of inputs:4\n",
            "For the 4 inputs calculate the net inputs using yin = x1w1 + x2w2:\n",
            "x1 =0\n",
            "x2 =0\n",
            "x1 =0\n",
            "x2 =1\n",
            "x1 =1\n",
            "x2 =0\n",
            "x1 =1\n",
            "x2 =1\n",
            "x1 =  [0, 1, 0, 1]\n",
            "x2 =  [0, 1, 0, 1]\n",
            "Yin= [0, 2, 0, 2]\n",
            "After assuming one wjhuuimi= [0, 0, 0, 0]\n",
            "Y= [0, 0, 0, 0]\n"
          ]
        }
      ],
      "source": [
        "num_ip = int(input(\"Enter the number of inputs:\"))\n",
        "\n",
        "w1 = 1\n",
        "w2 = 1\n",
        "\n",
        "print(\"For the\", num_ip, \"inputs calculate the net inputs using yin = x1w1 + x2w2:\")\n",
        "\n",
        "x1 = []\n",
        "x2 = []\n",
        "\n",
        "for j in range(0, num_ip):\n",
        "  ele1 = int(input(\"x1 =\"))\n",
        "  ele2 = int(input(\"x2 =\"))\n",
        "  x1.append(ele2)\n",
        "  x2.append(ele2)\n",
        "\n",
        "print(\"x1 = \", x1)\n",
        "print(\"x2 = \", x2)\n",
        "\n",
        "n = x1 * w1\n",
        "m = x2 * w2\n",
        "\n",
        "Yin = []\n",
        "\n",
        "for i in range(0, num_ip):\n",
        "  Yin.append(n[i] + m[i])\n",
        "\n",
        "print(\"Yin=\", Yin)\n",
        "\n",
        "Yin = []\n",
        "for i in range(0, num_ip):\n",
        "  Yin.append(n[i]-m[i])\n",
        "\n",
        "print(\"After assuming one wjhuuimi=\",Yin)\n",
        "\n",
        "Y = []\n",
        "\n",
        "for i in range (0, num_ip):\n",
        "  if(Yin[i]>=1):\n",
        "    ele=1\n",
        "    Y.append(ele)\n",
        "\n",
        "  if(Yin[i]<1):\n",
        "    ele=0\n",
        "    Y.append(ele)\n",
        "\n",
        "print(\"Y=\",Y)"
      ]
    },
    {
      "cell_type": "code",
      "source": [
        "\n",
        "\n"
      ],
      "metadata": {
        "id": "epaILEFBLA4l"
      },
      "execution_count": 5,
      "outputs": []
    },
    {
      "cell_type": "code",
      "source": [],
      "metadata": {
        "id": "MVEmER4fLsl6"
      },
      "execution_count": null,
      "outputs": []
    }
  ]
}