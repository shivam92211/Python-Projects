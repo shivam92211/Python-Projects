{
  "nbformat": 4,
  "nbformat_minor": 0,
  "metadata": {
    "colab": {
      "provenance": [],
      "authorship_tag": "ABX9TyO+VW7cCTIdGN+lzDLwpX1Z",
      "include_colab_link": true
    },
    "kernelspec": {
      "name": "python3",
      "display_name": "Python 3"
    },
    "language_info": {
      "name": "python"
    }
  },
  "cells": [
    {
      "cell_type": "markdown",
      "metadata": {
        "id": "view-in-github",
        "colab_type": "text"
      },
      "source": [
        "<a href=\"https://colab.research.google.com/github/shivam92211/Python-Projects/blob/main/practical2b.ipynb\" target=\"_parent\"><img src=\"https://colab.research.google.com/assets/colab-badge.svg\" alt=\"Open In Colab\"/></a>"
      ]
    },
    {
      "cell_type": "code",
      "execution_count": 1,
      "metadata": {
        "id": "mkrDYoWC1uKa"
      },
      "outputs": [],
      "source": [
        "import numpy as np"
      ]
    },
    {
      "cell_type": "code",
      "source": [
        "print('Enter weights')\n",
        "w11 = int(input('w11 ='))\n",
        "w12 = int(input('w12 ='))\n",
        "w21 = int(input('w21 ='))\n",
        "w22 = int(input('w22 ='))\n",
        "\n",
        "v1 = int(input('v1 ='))\n",
        "v2 = int(input('v2 ='))\n",
        "\n",
        "print('Enter the threshold value')\n",
        "theta = int(input('theta ='))\n",
        "\n",
        "x1 = np.array([0,0,1,1])\n",
        "x2 = np.array([0,1,0,1])\n",
        "\n",
        "z =np.array([0,1,1,0])\n",
        "con = 1\n",
        "\n",
        "y1 = np.zeros((4,))\n",
        "y2 = np.zeros((4,))\n",
        "y = np.zeros((4,))\n",
        "\n"
      ],
      "metadata": {
        "id": "MSxj2xbp2F_T"
      },
      "execution_count": null,
      "outputs": []
    }
  ]
}